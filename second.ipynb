def helloworld(x):
  for i in range(x):
     print("hello')
